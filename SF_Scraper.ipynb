{
 "cells": [
  {
   "cell_type": "code",
   "execution_count": 11,
   "id": "9b3dd74f-979e-424e-a9b3-028de7dc1b48",
   "metadata": {},
   "outputs": [],
   "source": [
    "import pandas as pd\n",
    "import os, gzip, time,requests"
   ]
  },
  {
   "cell_type": "code",
   "execution_count": 5,
   "id": "265ffee0-5836-4b45-93f0-6b461cad6c9c",
   "metadata": {},
   "outputs": [
    {
     "name": "stdout",
     "output_type": "stream",
     "text": [
      "Processed data written to ./processed_parcels.csv\n"
     ]
    }
   ],
   "source": [
    "def construct_complete_address(row):\n",
    "    \"\"\"\n",
    "    Build a complete address string using:\n",
    "      - from_address_num\n",
    "      - to_address_num (if different from the from_address_num)\n",
    "      - street_name and street_type, and\n",
    "      - analysis_neighborhood (if available)\n",
    "    \"\"\"\n",
    "    from_num = str(row.get(\"from_address_num\", \"\")).strip()\n",
    "    to_num   = str(row.get(\"to_address_num\", \"\")).strip()\n",
    "    street   = str(row.get(\"street_name\", \"\")).strip()\n",
    "    st_type  = str(row.get(\"street_type\", \"\")).strip()\n",
    "    neighborhood = str(row.get(\"analysis_neighborhood\", \"\")).strip()\n",
    "\n",
    "    if from_num and to_num and from_num != to_num:\n",
    "        house_num = f\"{from_num}-{to_num}\"\n",
    "    else:\n",
    "        house_num = from_num\n",
    "    addr = f\"{house_num} {street} {st_type}\".strip()\n",
    "    if neighborhood:\n",
    "        addr = f\"{addr}, {neighborhood}\"\n",
    "    return addr\n",
    "\n",
    "def process_parcel_data(input_csv, output_csv):\n",
    "    # Read your CSV into a DataFrame.\n",
    "    df = pd.read_csv(input_csv)\n",
    "\n",
    "    # Construct the complete address.\n",
    "    df[\"complete_address\"] = df.apply(construct_complete_address, axis=1)\n",
    "\n",
    "    # Rename the APN field from 'blklot' and select the 10 key attributes.\n",
    "    top10 = df.rename(columns={\"blklot\": \"APN\"})[[\n",
    "        \"APN\",                 # Unique Assessor Parcel Number\n",
    "        \"complete_address\",    # Constructed complete address\n",
    "        \"centroid_latitude\",   # Geographic latitude of the centroid\n",
    "        \"centroid_longitude\",  # Geographic longitude of the centroid\n",
    "        \"active\",              # Active flag\n",
    "        \"supdist\",             # Full name of Supervisorial District\n",
    "        \"supname\",             # Name of current Supervisor\n",
    "        \"police_district\",     # SFPD District\n",
    "        \"planning_district\",   # Planning district\n",
    "        \"data_as_of\"           # Timestamp of last update in the source\n",
    "    ]]\n",
    "    \n",
    "    # Write the selected data to an output CSV file.\n",
    "    top10.to_csv(output_csv, index=False)\n",
    "    print(f\"Processed data written to {output_csv}\")\n",
    "\n",
    "if __name__ == \"__main__\":\n",
    "    # Use a raw string for Windows paths.\n",
    "    input_csv_file = r\"\\SanFrancisco\\Parcels___Active_and_Retired_20250412.csv\"\n",
    "    output_csv_file = \"./processed_parcels.csv\"\n",
    "    process_parcel_data(input_csv_file, output_csv_file)\n"
   ]
  },
  {
   "cell_type": "code",
   "execution_count": 10,
   "id": "9661c7ae-3cca-487c-b883-6cd607143e00",
   "metadata": {},
   "outputs": [],
   "source": [
    "#### To check if the URL for scraping will work!\n",
    "\n",
    "##https://sanfrancisco-ca.county-taxes.com/public/search?search_query=3995156&category=gsgx_property_tax"
   ]
  },
  {
   "cell_type": "code",
   "execution_count": null,
   "id": "7bd4589c-a034-4f06-8a89-312847de1e6a",
   "metadata": {},
   "outputs": [],
   "source": [
    "# File paths and endpoint constants:\n",
    "INPUT_CSV = r\"\\SanFrancisco\\Parcels___Active_and_Retired_20250412.csv\"\n",
    "OUTPUT_DIR = r\"\\SanFrancisco\\Tax\"\n",
    "BASE_URL = \"https://sanfrancisco-ca.county-taxes.com/public/search\"\n",
    "\n",
    "# Create the output directory if it doesn't exist\n",
    "os.makedirs(OUTPUT_DIR, exist_ok=True)\n",
    "\n",
    "# Create a persistent HTTP session for efficiency.\n",
    "session = requests.Session()\n",
    "\n",
    "# Define headers to mimic a real browser.\n",
    "HEADERS = {\n",
    "    \"User-Agent\": \"Mozilla/5.0 (Windows NT 10.0; Win64; x64) AppleWebKit/537.36 (KHTML, like Gecko) Chrome/115.0.0.0 Safari/537.36\",\n",
    "    \"Accept\": \"text/html,application/xhtml+xml,application/xml;q=0.9,*/*;q=0.8\",\n",
    "    \"Accept-Language\": \"en-US,en;q=0.5\",\n",
    "    \"Connection\": \"keep-alive\"\n",
    "}\n",
    "\n",
    "def process_row(row):\n",
    "    \"\"\"\n",
    "    For a given row (parcel record), check if its HTML file exists.\n",
    "    If not, construct the URL (using the APN), request the HTML,\n",
    "    and write it as a gzipped file.\n",
    "    \"\"\"\n",
    "    apn = str(row[\"blklot\"]).strip()\n",
    "    output_path = os.path.join(OUTPUT_DIR, f\"{apn}.html\")\n",
    "    if os.path.exists(output_path):\n",
    "        return  # Skip if the file already exists\n",
    "\n",
    "    url = f\"{BASE_URL}?search_query={apn}&category=gsgx_property_tax\"\n",
    "    resp = session.get(url, headers=HEADERS)\n",
    "    \n",
    "    if resp.status_code == 200:\n",
    "        with gzip.open(output_path, \"wt\") as f_out:\n",
    "            f_out.write(resp.text)\n",
    "        print(f\"APN {apn} processed successfully.\")\n",
    "    else:\n",
    "        print(f\"-> Failed for APN {apn} with status code: {resp.status_code}\")\n",
    "    time.sleep(0.5)  # Rate limiting\n",
    "\n",
    "def main():\n",
    "    df = pd.read_csv(INPUT_CSV)\n",
    "    df.apply(process_row, axis=1)\n",
    "\n",
    "if __name__ == \"__main__\":\n",
    "    main()\n"
   ]
  },
  {
   "cell_type": "code",
   "execution_count": null,
   "id": "1d071794-eac1-474b-9f15-18569cb0014b",
   "metadata": {},
   "outputs": [],
   "source": []
  }
 ],
 "metadata": {
  "kernelspec": {
   "display_name": "Python 3 (ipykernel)",
   "language": "python",
   "name": "python3"
  },
  "language_info": {
   "codemirror_mode": {
    "name": "ipython",
    "version": 3
   },
   "file_extension": ".py",
   "mimetype": "text/x-python",
   "name": "python",
   "nbconvert_exporter": "python",
   "pygments_lexer": "ipython3",
   "version": "3.11.7"
  }
 },
 "nbformat": 4,
 "nbformat_minor": 5
}
